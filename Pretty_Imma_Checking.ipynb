{
 "cells": [
  {
   "cell_type": "code",
   "execution_count": null,
   "metadata": {
    "pycharm": {
     "is_executing": true,
     "name": "#%%\n"
    }
   },
   "outputs": [],
   "source": [
    "import os\n",
    "import pandas as pd\n",
    "from tika import parser  \n",
    "import numpy as np\n",
    "import re\n",
    "import random\n",
    "import requests\n",
    "from fuzzywuzzy import fuzz"
   ]
  },
  {
   "cell_type": "code",
   "execution_count": null,
   "metadata": {
    "pycharm": {
     "name": "#%%\n"
    }
   },
   "outputs": [],
   "source": [
    "# Wo ist die AirTable CSV-Datei gespeichert? Gib sie hier bitte an! Wenn sie im gleichen Ordner gespeichert ist, wie dieses Skript, reicht der Dateiname, sonst bitte als Pfad bspw: 'C:\\user\\mediorga\\tickets\\Antworten.csv'\n",
    "csv= 'Codevergabe-Grid view.csv'\n",
    "\n",
    "#Bitte gib hier deinen Pfad an wo die heruntergeladenen Immatrikulationsbescheinigungen gespeichert werden sollen\n",
    "IMMA_PATH= './Immatrikulationsbescheinigung/Abgaben'\n",
    "\n",
    "# Welche Studiengänge sind erlaubt? Bitte schreibe sie genauso wie in den Immabescheinigungen(WICHTIG!)\n",
    "STUDIENGAENGE= ['Zahnmedizin','Medizin', 'Tiermedizin']\n",
    "\n",
    "\n",
    "#Aus welchem Semester dürfen die Immabescheinigungen sein?? \n",
    "#Bitte genauso schreiben wie in den Immabescheinigungen (Copy-Paste ist euer Freund)\n",
    "SEMESTER= ['SoSe 2022 an der Universität München', 'WS 2021/2022 ']\n",
    "\n",
    "\n",
    "# Wie heisst die Spalte mit dem Downloadlink im Airtable? Bitte in den Anführungszeichen Copy-Pasten\n",
    "PDF_ROWNAME= 'Nachweis Mediziner:in'\n",
    "\n",
    "# Wie heisst die Spalte mit dem Vornamen in eurer AirTable?\n",
    "AIRTABLE_VORNAME = 'Vorname'\n",
    "\n",
    "# Wie heisst die Spalte mit dem Nachnamen in eurer AirTable?\n",
    "AIRTABLE_NACHNAME = 'Nachname'\n",
    "\n",
    "#Das hier ist die Schwelle der Übereinstimmung, je näher an 1.0 desto mehr fliegen raus (Cave bei Doppelnamen etc.)\n",
    "#0.66 hat sich hier bis jetzt gut bewährt\n",
    "levensthein_cutoff = .66\n",
    "\n",
    "#Hier sind die regulären Ausdrücke formuliert die die Namen aus dem ganzen Text herausfiltern.\n",
    "#Ihr dürft hier gerne rumspielen, sont meldet euch bei Christopher für genauere Erklärungen!\n",
    "REGEX_1= \"(Herr@|Frau@)([A-zÀ-ú@0-9- üÜ]*)@geboren\"\n",
    "REGEX_2= '@{1}(.*)@geboren'\n"
   ]
  },
  {
   "cell_type": "code",
   "execution_count": null,
   "metadata": {
    "pycharm": {
     "name": "#%%\n"
    }
   },
   "outputs": [],
   "source": [
    "#Erstelle alle notwendigen Ordnerstrukturen\n",
    "SEMESTER= SEMESTER.replace(' ', '@')\n",
    "if os.path.isdir(path) == False:\n",
    "    os.path.makedir(path)\n",
    "    print(f'Die Immatrikulationsbescheinigungen werden unter folgendem Ordner gespeichert: {path}')\n",
    "\n",
    "elif os.path.isfile(csv) == False:\n",
    "    print(f\"Die angegebene CSV-Datei gibt es nicht - bitte kontrolliere den Namen und versuche es erneut! \\n Du hast folgenden DAteiort angeben: {csv}\")\n",
    "    \n",
    "elif os.path.isdir('./output') == False:\n",
    "    os.path.makedir('./output')\n",
    "    print(f'Die fertigen Listen werden in diesem Ordner gespeichert: {os.getcwd}/output')\n",
    "\n",
    "else:\n",
    "    pass\n",
    "    "
   ]
  },
  {
   "cell_type": "code",
   "execution_count": null,
   "metadata": {
    "pycharm": {
     "name": "#%%\n"
    }
   },
   "outputs": [],
   "source": [
    "# Hier werden nur ganz viele Funktionen definiert, die wir später brauchen!\n",
    "def levenshtein_ratio_and_distance(s, t, ratio_calc = True):\n",
    "    \"\"\" levenshtein_ratio_and_distance:\n",
    "        Calculates levenshtein distance between two strings.\n",
    "        If ratio_calc = True, the function computes the\n",
    "        levenshtein distance ratio of similarity between two strings\n",
    "        For all i and j, distance[i,j] will contain the Levenshtein\n",
    "        distance between the first i characters of s and the\n",
    "        first j characters of t\n",
    "    \"\"\"\n",
    "    # Initialize matrix of zeros\n",
    "    rows = len(s)+1\n",
    "    cols = len(t)+1\n",
    "    distance = np.zeros((rows,cols),dtype = int)\n",
    "\n",
    "    # Populate matrix of zeros with the indeces of each character of both strings\n",
    "    for i in range(1, rows):\n",
    "        for k in range(1,cols):\n",
    "            distance[i][0] = i\n",
    "            distance[0][k] = k\n",
    "\n",
    "    # Iterate over the matrix to compute the cost of deletions,insertions and/or substitutions    \n",
    "    for col in range(1, cols):\n",
    "        for row in range(1, rows):\n",
    "            if s[row-1] == t[col-1]:\n",
    "                cost = 0 # If the characters are the same in the two strings in a given position [i,j] then the cost is 0\n",
    "            else:\n",
    "                # In order to align the results with those of the Python Levenshtein package, if we choose to calculate the ratio\n",
    "                # the cost of a substitution is 2. If we calculate just distance, then the cost of a substitution is 1.\n",
    "                if ratio_calc == True:\n",
    "                    cost = 2\n",
    "                else:\n",
    "                    cost = 1\n",
    "            distance[row][col] = min(distance[row-1][col] + 1,      # Cost of deletions\n",
    "                                 distance[row][col-1] + 1,          # Cost of insertions\n",
    "                                 distance[row-1][col-1] + cost)     # Cost of substitutions\n",
    "    if ratio_calc == True:\n",
    "        # Computation of the Levenshtein Distance Ratio\n",
    "        Ratio = ((len(s)+len(t)) - distance[row][col]) / (len(s)+len(t))\n",
    "        return Ratio\n",
    "    \n",
    "def list_check(list, text):\n",
    "    data= []\n",
    "    for i in list:\n",
    "        x= string_check(i,text)\n",
    "        data.append(x)\n",
    "    if True in data:\n",
    "        return True\n",
    "    else:\n",
    "        return False\n",
    "        \n",
    "def string_check(str, text):\n",
    "    if str in text:\n",
    "        return True\n",
    "    else:\n",
    "        return False\n",
    "\n",
    "\n",
    "\n",
    "def lev_check(lev_distance, cutoff):\n",
    "    if lev_distance>= cutoff:\n",
    "        return True\n",
    "    else:\n",
    "        return False\n",
    "\n",
    "\n",
    "\n",
    "def bool_check(list):\n",
    "    if False in list:\n",
    "        return 'Name Check error'\n",
    "    else:\n",
    "        return False\n"
   ]
  },
  {
   "cell_type": "code",
   "execution_count": null,
   "metadata": {
    "pycharm": {
     "name": "#%%\n"
    }
   },
   "outputs": [],
   "source": [
    "#Einlesen der AirTable-Tabelle\n",
    "\n",
    "df1= pd.read_csv(csv)\n",
    "all= df1"
   ]
  },
  {
   "cell_type": "code",
   "execution_count": null,
   "metadata": {
    "pycharm": {
     "name": "#%%\n"
    }
   },
   "outputs": [],
   "source": [
    "#Aufspalten der Downloadlink-Zeile in  filename, downloadlink, filetype\n",
    "d= df1[PDF_ROWNAME].str.split(\"([.]*[\\w]*) \\((https[^\\(\\)]*)\", regex=True ,expand= True)\n",
    "\n",
    "df1['filename'], df1['filetype'], df1['download']= d[0], d[1], d[2]\n",
    "\n"
   ]
  },
  {
   "cell_type": "code",
   "execution_count": null,
   "metadata": {
    "pycharm": {
     "name": "#%%\n"
    }
   },
   "outputs": [],
   "source": [
    "#Lade Dateien herunter und speichere unter dem Index-Namen (Zeilennummer)\n",
    "def download_pdf(url, filename, download_path):\n",
    "    filepath= str(download_path) + str(filename)   \n",
    "    \n",
    "    r = requests.get(url)\n",
    "    with open(filepath, 'wb') as f:\n",
    "        f.write(r.content) \n",
    "\n",
    "df1.apply(lambda x : download_pdf(x['download'], str(x.name)+str(x['filetype'], IMMA_PATH)), axis=1)"
   ]
  },
  {
   "cell_type": "code",
   "execution_count": null,
   "metadata": {
    "pycharm": {
     "name": "#%%\n"
    }
   },
   "outputs": [],
   "source": [
    "# Erstelle Spalte mit dem lokalen Dateipfad um die Dateien aufrufen zu können\n",
    "df1['filepath_local']= df1.apply(lambda x: os.path.join((str(IMMA_PATH) + str(x.name) +'.pdf')), axis=1)\n"
   ]
  },
  {
   "cell_type": "code",
   "execution_count": null,
   "metadata": {
    "pycharm": {
     "name": "#%%\n"
    }
   },
   "outputs": [],
   "source": [
    "#Funktion um die PDF-Dateien einzulesen\n",
    "def parsing_pdf(filename):\n",
    "    try:\n",
    "        # opening pdf file\n",
    "        parsed_pdf = parser.from_file(filename)\n",
    "        data = parsed_pdf['content'] \n",
    "        \n",
    "        if data == None:\n",
    "            return False\n",
    "        \n",
    "        data= data.replace('\\n', '@')\n",
    "        data= data.replace(' ', '@')\n",
    "        data= re.sub(r'@{2,}', '@', data)\n",
    "        #print(data)\n",
    "        return data\n",
    "    except:\n",
    "        return False\n"
   ]
  },
  {
   "cell_type": "code",
   "execution_count": null,
   "metadata": {
    "pycharm": {
     "name": "#%%\n"
    }
   },
   "outputs": [],
   "source": [
    "#Parsen (Einlesen) der PDF-Dateien, sollten hier fehlerhafte PDFs enthalten sein, werden die markiert! Die müsst ihr dann per Hand Checken\n",
    "df1['content']= df1.apply(lambda x: parsing_pdf(x['filepath_local']), axis=1)\n",
    "f= df1[df1['content']==False]\n",
    "f['error'] = \"Invalid PDF\"\n",
    "no_pdf= pd.DataFrame(f)\n",
    "df1= df1[df1['content']!=False]"
   ]
  },
  {
   "cell_type": "code",
   "execution_count": null,
   "metadata": {
    "pycharm": {
     "name": "#%%\n"
    }
   },
   "outputs": [],
   "source": [
    "#Funktion um zu schauen ob die Studiengänge, Semester und Namen mit den angegeben übereinstimmen!\n",
    "def checking(filelist, studiengaenge, semester, lev_cutoff, regex):\n",
    "    \n",
    "    filelist['name_ok']= filelist.apply(lambda row : lev_check(str( row[str(AIRTABLE_VORNAME)]) + ' ' + str(row[str(AIRTABLE_NACHNAME)]), r_name(row['content']), lev_cutoff, regex), axis=1)\n",
    "    filelist['Semester_ok']= filelist.apply(lambda row : list_check(semester, str(row['content'])), axis=1)\n",
    "    filelist['Fach_ok']= filelist.apply(lambda row : list_check(studiengaenge, row['content']),axis=1)\n",
    "    return filelist"
   ]
  },
  {
   "cell_type": "code",
   "execution_count": null,
   "metadata": {
    "pycharm": {
     "name": "#%%\n"
    }
   },
   "outputs": [],
   "source": [
    "#Funktion zum Auslesen der Namen\n",
    "\n",
    "def r_name(data, regex1, regex2):\n",
    "    try:\n",
    "        d= re.search(regex1, str(data))\n",
    "        d= d.group()\n",
    "        print(d)\n",
    "        d= re.search (regex2, str(d))\n",
    "        d= d.group()\n",
    "        d= d.strip()\n",
    "        \n",
    "        return d\n",
    "    except:\n",
    "        return False\n",
    "\n"
   ]
  },
  {
   "cell_type": "code",
   "execution_count": null,
   "metadata": {
    "pycharm": {
     "name": "#%%\n"
    }
   },
   "outputs": [],
   "source": [
    "#Auslesen der Namen aus allen PDF-Dateien mittels der Regulären Ausdrücke von oben\n",
    "#Hier müssen wir ggf einmal über die entsprechenden Namen schauen - das ist je nachdem etwas anstrengend manchmal\n",
    "\n",
    "df1['parsed_name']= df1.apply(lambda x: r_name(x['content'], REGEX_1, REGEX_2), axis=1)\n",
    "no_pdf= no_pdf.append(df1[df1['parsed_name']==False])\n",
    "df1= df1[df1['parsed_name']!=False]\n",
    "df1['parsed_name'] = df1.apply(lambda row:row['parsed_name'].strip(), axis=1)\n",
    "df1['parsed_name'] = df1.apply(lambda row:row['parsed_name'].replace('@', ' ').strip(), axis=1)\n",
    "print(f'So sehen die Namen aus, schaut einmal drüber ob das passt: \\n {df1["parsed_name"][1:8]}')\n",
    "\n",
    "\n",
    "\n"
   ]
  },
  {
   "cell_type": "code",
   "execution_count": null,
   "metadata": {
    "pycharm": {
     "name": "#%%\n"
    }
   },
   "outputs": [],
   "source": [
    "#Auslesen der Semester in der PDF\n",
    "df1['semester_ok']= df1.apply(lambda row : list_check(SEMESTER, str(row['content'])), axis=1)\n",
    "\n",
    "\n"
   ]
  },
  {
   "cell_type": "code",
   "execution_count": null,
   "metadata": {
    "pycharm": {
     "name": "#%%\n"
    }
   },
   "outputs": [],
   "source": [
    "#Check ob das Semester von euch validiert ist\n",
    "df1['Fach_ok']= df1.apply(lambda row : list_check(STUDIENGAENGE, row['content']),axis=1)\n",
    "\n",
    "\n"
   ]
  },
  {
   "cell_type": "code",
   "execution_count": null,
   "metadata": {
    "pycharm": {
     "name": "#%%\n"
    }
   },
   "outputs": [],
   "source": []
  },
  {
   "cell_type": "code",
   "execution_count": null,
   "metadata": {
    "pycharm": {
     "name": "#%%\n"
    }
   },
   "outputs": [],
   "source": [
    "#ganz viele Berechnungen zum Abgleich der Namen und Check ob alle Parameter die ihr vorgegeben habt (Semester, Studiengang, etc.) stimmen\n",
    "df1['lev_ratio']= df1.apply(lambda row: fuzz.token_sort_ratio((str(row[str(AIRTABLE_VORNAME)]) + ' ' + str(row[str(AIRTABLE_NACHNAME)])), str(row['parsed_name'])), axis=1)\n",
    "\n",
    "df1['name_ok']= df1.apply(lambda row: lev_check(row['lev_ratio'], levensthein_cutoff*100), axis=1)\n",
    "\n",
    "df1['error']=df1.apply(lambda row: bool_check([row['semester_ok'], row['name_ok'], row['Fach_ok']]), axis=1)\n",
    "\n",
    "no_pdf= no_pdf.append(df1[df1['error']!= False])\n",
    "\n",
    "df1= df1[df1['error']== False]\n"
   ]
  },
  {
   "cell_type": "code",
   "execution_count": null,
   "metadata": {
    "pycharm": {
     "name": "#%%\n"
    }
   },
   "outputs": [],
   "source": []
  },
  {
   "cell_type": "code",
   "execution_count": null,
   "metadata": {
    "pycharm": {
     "name": "#%%\n"
    }
   },
   "outputs": [],
   "source": [
    "#Entferne alle Doppeleinreichungen, behalte nur die erste Zeile\n",
    "\n",
    "unique_values= df1.drop_duplicates(subset= ['content', 'Uni',] )\n"
   ]
  },
  {
   "cell_type": "code",
   "execution_count": null,
   "metadata": {
    "pycharm": {
     "is_executing": true,
     "name": "#%%\n"
    }
   },
   "outputs": [],
   "source": [
    "# Filtere alle fehlerhaften PDF-Dateien raus und schreibe sie in eine Excel-Tabelle\n",
    "no_pdf.to_excel('./output/Fehlerhafte.xlsx', encoding='UTF-8', engine='xlsxwriter')\n",
    "\n",
    "#Schreibe alle erfolgreich gecheckten in eine Tabelle\n",
    "unique_values.to_excel('./output/Erfolgreich_gecheckt.csv', encoding='utf-8', engine='xlsxwriter')\n"
   ]
  }
 ],
 "metadata": {
  "interpreter": {
   "hash": "209ddd9b403c57e5c24e49c65219a9ce9fe745efdf85559468127741a95325c2"
  },
  "kernelspec": {
   "display_name": "Python_ticketing_mr_kernel",
   "language": "python",
   "name": "ticketing_mr"
  },
  "language_info": {
   "codemirror_mode": {
    "name": "ipython",
    "version": 3
   },
   "file_extension": ".py",
   "mimetype": "text/x-python",
   "name": "python",
   "nbconvert_exporter": "python",
   "pygments_lexer": "ipython3",
   "version": "3.10.2"
  }
 },
 "nbformat": 4,
 "nbformat_minor": 2
}
